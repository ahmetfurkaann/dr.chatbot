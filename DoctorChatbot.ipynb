{
  "nbformat": 4,
  "nbformat_minor": 0,
  "metadata": {
    "colab": {
      "provenance": [],
      "authorship_tag": "ABX9TyNfnamZ9GcFvnldPOUswXjs",
      "include_colab_link": true
    },
    "kernelspec": {
      "name": "python3",
      "display_name": "Python 3"
    },
    "language_info": {
      "name": "python"
    }
  },
  "cells": [
    {
      "cell_type": "markdown",
      "metadata": {
        "id": "view-in-github",
        "colab_type": "text"
      },
      "source": [
        "<a href=\"https://colab.research.google.com/github/sebinbusra/dr.chatbot/blob/main/DoctorChatbot.ipynb\" target=\"_parent\"><img src=\"https://colab.research.google.com/assets/colab-badge.svg\" alt=\"Open In Colab\"/></a>"
      ]
    },
    {
      "cell_type": "code",
      "source": [
        "!pip install gradio faiss-cpu PyPDF2 openai==0.28 tiktoken -U langchain-community"
      ],
      "metadata": {
        "colab": {
          "base_uri": "https://localhost:8080/"
        },
        "id": "MdoVHWQCVZZR",
        "outputId": "36fc92d5-fae6-443f-ea9d-30119bc2078c"
      },
      "execution_count": 44,
      "outputs": [
        {
          "output_type": "stream",
          "name": "stdout",
          "text": [
            "Requirement already satisfied: gradio in /usr/local/lib/python3.10/dist-packages (4.44.0)\n",
            "Requirement already satisfied: faiss-cpu in /usr/local/lib/python3.10/dist-packages (1.8.0.post1)\n",
            "Requirement already satisfied: PyPDF2 in /usr/local/lib/python3.10/dist-packages (3.0.1)\n",
            "Requirement already satisfied: openai==0.28 in /usr/local/lib/python3.10/dist-packages (0.28.0)\n",
            "Requirement already satisfied: tiktoken in /usr/local/lib/python3.10/dist-packages (0.7.0)\n",
            "Requirement already satisfied: langchain-community in /usr/local/lib/python3.10/dist-packages (0.3.0)\n",
            "Requirement already satisfied: requests>=2.20 in /usr/local/lib/python3.10/dist-packages (from openai==0.28) (2.32.3)\n",
            "Requirement already satisfied: tqdm in /usr/local/lib/python3.10/dist-packages (from openai==0.28) (4.66.5)\n",
            "Requirement already satisfied: aiohttp in /usr/local/lib/python3.10/dist-packages (from openai==0.28) (3.10.5)\n",
            "Requirement already satisfied: aiofiles<24.0,>=22.0 in /usr/local/lib/python3.10/dist-packages (from gradio) (23.2.1)\n",
            "Requirement already satisfied: anyio<5.0,>=3.0 in /usr/local/lib/python3.10/dist-packages (from gradio) (3.7.1)\n",
            "Requirement already satisfied: fastapi<1.0 in /usr/local/lib/python3.10/dist-packages (from gradio) (0.114.2)\n",
            "Requirement already satisfied: ffmpy in /usr/local/lib/python3.10/dist-packages (from gradio) (0.4.0)\n",
            "Requirement already satisfied: gradio-client==1.3.0 in /usr/local/lib/python3.10/dist-packages (from gradio) (1.3.0)\n",
            "Requirement already satisfied: httpx>=0.24.1 in /usr/local/lib/python3.10/dist-packages (from gradio) (0.27.2)\n",
            "Requirement already satisfied: huggingface-hub>=0.19.3 in /usr/local/lib/python3.10/dist-packages (from gradio) (0.24.6)\n",
            "Requirement already satisfied: importlib-resources<7.0,>=1.3 in /usr/local/lib/python3.10/dist-packages (from gradio) (6.4.5)\n",
            "Requirement already satisfied: jinja2<4.0 in /usr/local/lib/python3.10/dist-packages (from gradio) (3.1.4)\n",
            "Requirement already satisfied: markupsafe~=2.0 in /usr/local/lib/python3.10/dist-packages (from gradio) (2.1.5)\n",
            "Requirement already satisfied: matplotlib~=3.0 in /usr/local/lib/python3.10/dist-packages (from gradio) (3.7.1)\n",
            "Requirement already satisfied: numpy<3.0,>=1.0 in /usr/local/lib/python3.10/dist-packages (from gradio) (1.26.4)\n",
            "Requirement already satisfied: orjson~=3.0 in /usr/local/lib/python3.10/dist-packages (from gradio) (3.10.7)\n",
            "Requirement already satisfied: packaging in /usr/local/lib/python3.10/dist-packages (from gradio) (24.1)\n",
            "Requirement already satisfied: pandas<3.0,>=1.0 in /usr/local/lib/python3.10/dist-packages (from gradio) (2.1.4)\n",
            "Requirement already satisfied: pillow<11.0,>=8.0 in /usr/local/lib/python3.10/dist-packages (from gradio) (9.4.0)\n",
            "Requirement already satisfied: pydantic>=2.0 in /usr/local/lib/python3.10/dist-packages (from gradio) (2.9.1)\n",
            "Requirement already satisfied: pydub in /usr/local/lib/python3.10/dist-packages (from gradio) (0.25.1)\n",
            "Requirement already satisfied: python-multipart>=0.0.9 in /usr/local/lib/python3.10/dist-packages (from gradio) (0.0.9)\n",
            "Requirement already satisfied: pyyaml<7.0,>=5.0 in /usr/local/lib/python3.10/dist-packages (from gradio) (6.0.2)\n",
            "Requirement already satisfied: ruff>=0.2.2 in /usr/local/lib/python3.10/dist-packages (from gradio) (0.6.5)\n",
            "Requirement already satisfied: semantic-version~=2.0 in /usr/local/lib/python3.10/dist-packages (from gradio) (2.10.0)\n",
            "Requirement already satisfied: tomlkit==0.12.0 in /usr/local/lib/python3.10/dist-packages (from gradio) (0.12.0)\n",
            "Requirement already satisfied: typer<1.0,>=0.12 in /usr/local/lib/python3.10/dist-packages (from gradio) (0.12.5)\n",
            "Requirement already satisfied: typing-extensions~=4.0 in /usr/local/lib/python3.10/dist-packages (from gradio) (4.12.2)\n",
            "Requirement already satisfied: urllib3~=2.0 in /usr/local/lib/python3.10/dist-packages (from gradio) (2.0.7)\n",
            "Requirement already satisfied: uvicorn>=0.14.0 in /usr/local/lib/python3.10/dist-packages (from gradio) (0.30.6)\n",
            "Requirement already satisfied: fsspec in /usr/local/lib/python3.10/dist-packages (from gradio-client==1.3.0->gradio) (2024.6.1)\n",
            "Requirement already satisfied: websockets<13.0,>=10.0 in /usr/local/lib/python3.10/dist-packages (from gradio-client==1.3.0->gradio) (12.0)\n",
            "Requirement already satisfied: regex>=2022.1.18 in /usr/local/lib/python3.10/dist-packages (from tiktoken) (2024.5.15)\n",
            "Requirement already satisfied: SQLAlchemy<3,>=1.4 in /usr/local/lib/python3.10/dist-packages (from langchain-community) (2.0.34)\n",
            "Requirement already satisfied: dataclasses-json<0.7,>=0.5.7 in /usr/local/lib/python3.10/dist-packages (from langchain-community) (0.6.7)\n",
            "Requirement already satisfied: langchain<0.4.0,>=0.3.0 in /usr/local/lib/python3.10/dist-packages (from langchain-community) (0.3.0)\n",
            "Requirement already satisfied: langchain-core<0.4.0,>=0.3.0 in /usr/local/lib/python3.10/dist-packages (from langchain-community) (0.3.0)\n",
            "Requirement already satisfied: langsmith<0.2.0,>=0.1.112 in /usr/local/lib/python3.10/dist-packages (from langchain-community) (0.1.120)\n",
            "Requirement already satisfied: pydantic-settings<3.0.0,>=2.4.0 in /usr/local/lib/python3.10/dist-packages (from langchain-community) (2.5.2)\n",
            "Requirement already satisfied: tenacity!=8.4.0,<9.0.0,>=8.1.0 in /usr/local/lib/python3.10/dist-packages (from langchain-community) (8.5.0)\n",
            "Requirement already satisfied: aiohappyeyeballs>=2.3.0 in /usr/local/lib/python3.10/dist-packages (from aiohttp->openai==0.28) (2.4.0)\n",
            "Requirement already satisfied: aiosignal>=1.1.2 in /usr/local/lib/python3.10/dist-packages (from aiohttp->openai==0.28) (1.3.1)\n",
            "Requirement already satisfied: attrs>=17.3.0 in /usr/local/lib/python3.10/dist-packages (from aiohttp->openai==0.28) (24.2.0)\n",
            "Requirement already satisfied: frozenlist>=1.1.1 in /usr/local/lib/python3.10/dist-packages (from aiohttp->openai==0.28) (1.4.1)\n",
            "Requirement already satisfied: multidict<7.0,>=4.5 in /usr/local/lib/python3.10/dist-packages (from aiohttp->openai==0.28) (6.1.0)\n",
            "Requirement already satisfied: yarl<2.0,>=1.0 in /usr/local/lib/python3.10/dist-packages (from aiohttp->openai==0.28) (1.11.1)\n",
            "Requirement already satisfied: async-timeout<5.0,>=4.0 in /usr/local/lib/python3.10/dist-packages (from aiohttp->openai==0.28) (4.0.3)\n",
            "Requirement already satisfied: idna>=2.8 in /usr/local/lib/python3.10/dist-packages (from anyio<5.0,>=3.0->gradio) (3.8)\n",
            "Requirement already satisfied: sniffio>=1.1 in /usr/local/lib/python3.10/dist-packages (from anyio<5.0,>=3.0->gradio) (1.3.1)\n",
            "Requirement already satisfied: exceptiongroup in /usr/local/lib/python3.10/dist-packages (from anyio<5.0,>=3.0->gradio) (1.2.2)\n",
            "Requirement already satisfied: marshmallow<4.0.0,>=3.18.0 in /usr/local/lib/python3.10/dist-packages (from dataclasses-json<0.7,>=0.5.7->langchain-community) (3.22.0)\n",
            "Requirement already satisfied: typing-inspect<1,>=0.4.0 in /usr/local/lib/python3.10/dist-packages (from dataclasses-json<0.7,>=0.5.7->langchain-community) (0.9.0)\n",
            "Requirement already satisfied: starlette<0.39.0,>=0.37.2 in /usr/local/lib/python3.10/dist-packages (from fastapi<1.0->gradio) (0.38.5)\n",
            "Requirement already satisfied: certifi in /usr/local/lib/python3.10/dist-packages (from httpx>=0.24.1->gradio) (2024.8.30)\n",
            "Requirement already satisfied: httpcore==1.* in /usr/local/lib/python3.10/dist-packages (from httpx>=0.24.1->gradio) (1.0.5)\n",
            "Requirement already satisfied: h11<0.15,>=0.13 in /usr/local/lib/python3.10/dist-packages (from httpcore==1.*->httpx>=0.24.1->gradio) (0.14.0)\n",
            "Requirement already satisfied: filelock in /usr/local/lib/python3.10/dist-packages (from huggingface-hub>=0.19.3->gradio) (3.16.0)\n",
            "Requirement already satisfied: langchain-text-splitters<0.4.0,>=0.3.0 in /usr/local/lib/python3.10/dist-packages (from langchain<0.4.0,>=0.3.0->langchain-community) (0.3.0)\n",
            "Requirement already satisfied: jsonpatch<2.0,>=1.33 in /usr/local/lib/python3.10/dist-packages (from langchain-core<0.4.0,>=0.3.0->langchain-community) (1.33)\n",
            "Requirement already satisfied: contourpy>=1.0.1 in /usr/local/lib/python3.10/dist-packages (from matplotlib~=3.0->gradio) (1.3.0)\n",
            "Requirement already satisfied: cycler>=0.10 in /usr/local/lib/python3.10/dist-packages (from matplotlib~=3.0->gradio) (0.12.1)\n",
            "Requirement already satisfied: fonttools>=4.22.0 in /usr/local/lib/python3.10/dist-packages (from matplotlib~=3.0->gradio) (4.53.1)\n",
            "Requirement already satisfied: kiwisolver>=1.0.1 in /usr/local/lib/python3.10/dist-packages (from matplotlib~=3.0->gradio) (1.4.7)\n",
            "Requirement already satisfied: pyparsing>=2.3.1 in /usr/local/lib/python3.10/dist-packages (from matplotlib~=3.0->gradio) (3.1.4)\n",
            "Requirement already satisfied: python-dateutil>=2.7 in /usr/local/lib/python3.10/dist-packages (from matplotlib~=3.0->gradio) (2.8.2)\n",
            "Requirement already satisfied: pytz>=2020.1 in /usr/local/lib/python3.10/dist-packages (from pandas<3.0,>=1.0->gradio) (2024.2)\n",
            "Requirement already satisfied: tzdata>=2022.1 in /usr/local/lib/python3.10/dist-packages (from pandas<3.0,>=1.0->gradio) (2024.1)\n",
            "Requirement already satisfied: annotated-types>=0.6.0 in /usr/local/lib/python3.10/dist-packages (from pydantic>=2.0->gradio) (0.7.0)\n",
            "Requirement already satisfied: pydantic-core==2.23.3 in /usr/local/lib/python3.10/dist-packages (from pydantic>=2.0->gradio) (2.23.3)\n",
            "Requirement already satisfied: python-dotenv>=0.21.0 in /usr/local/lib/python3.10/dist-packages (from pydantic-settings<3.0.0,>=2.4.0->langchain-community) (1.0.1)\n",
            "Requirement already satisfied: charset-normalizer<4,>=2 in /usr/local/lib/python3.10/dist-packages (from requests>=2.20->openai==0.28) (3.3.2)\n",
            "Requirement already satisfied: greenlet!=0.4.17 in /usr/local/lib/python3.10/dist-packages (from SQLAlchemy<3,>=1.4->langchain-community) (3.1.0)\n",
            "Requirement already satisfied: click>=8.0.0 in /usr/local/lib/python3.10/dist-packages (from typer<1.0,>=0.12->gradio) (8.1.7)\n",
            "Requirement already satisfied: shellingham>=1.3.0 in /usr/local/lib/python3.10/dist-packages (from typer<1.0,>=0.12->gradio) (1.5.4)\n",
            "Requirement already satisfied: rich>=10.11.0 in /usr/local/lib/python3.10/dist-packages (from typer<1.0,>=0.12->gradio) (13.8.1)\n",
            "Requirement already satisfied: jsonpointer>=1.9 in /usr/local/lib/python3.10/dist-packages (from jsonpatch<2.0,>=1.33->langchain-core<0.4.0,>=0.3.0->langchain-community) (3.0.0)\n",
            "Requirement already satisfied: six>=1.5 in /usr/local/lib/python3.10/dist-packages (from python-dateutil>=2.7->matplotlib~=3.0->gradio) (1.16.0)\n",
            "Requirement already satisfied: markdown-it-py>=2.2.0 in /usr/local/lib/python3.10/dist-packages (from rich>=10.11.0->typer<1.0,>=0.12->gradio) (3.0.0)\n",
            "Requirement already satisfied: pygments<3.0.0,>=2.13.0 in /usr/local/lib/python3.10/dist-packages (from rich>=10.11.0->typer<1.0,>=0.12->gradio) (2.16.1)\n",
            "Requirement already satisfied: mypy-extensions>=0.3.0 in /usr/local/lib/python3.10/dist-packages (from typing-inspect<1,>=0.4.0->dataclasses-json<0.7,>=0.5.7->langchain-community) (1.0.0)\n",
            "Requirement already satisfied: mdurl~=0.1 in /usr/local/lib/python3.10/dist-packages (from markdown-it-py>=2.2.0->rich>=10.11.0->typer<1.0,>=0.12->gradio) (0.1.2)\n"
          ]
        }
      ]
    },
    {
      "cell_type": "code",
      "execution_count": 4,
      "metadata": {
        "id": "HOl01myFT2Yb"
      },
      "outputs": [],
      "source": [
        "import gradio as gr\n",
        "import openai\n",
        "import faiss\n",
        "import numpy as np\n",
        "import requests\n",
        "from PyPDF2 import PdfReader\n",
        "from langchain.text_splitter import RecursiveCharacterTextSplitter\n",
        "from langchain.embeddings.openai import OpenAIEmbeddings\n",
        "import json\n"
      ]
    },
    {
      "cell_type": "code",
      "source": [
        "# OpenAI ve diğer API anahtarlarını ayarlayın\n",
        "openai_api_key = \"sk-xxxxxxxxxxxxxxxxxxxxxxxxxxxx\"  # OpenAI API anahtarınızı buraya ekleyin\n",
        "openai.api_key = openai_api_key\n",
        "\n",
        "weather_api_key = \"xxxxxxxxxxxxxxxxxxxxxxxxxxxx\"  # OpenWeatherMap API anahtarınızı buraya ekleyin\n",
        "exchange_api_key = \"xxxxxxxxxxxxxxxxxxxxxxxxxxxx\"  # Exchangeratesapi.io API anahtarınızı buraya ekleyin\n"
      ],
      "metadata": {
        "id": "IHBF4TE3VcTx"
      },
      "execution_count": 42,
      "outputs": []
    },
    {
      "cell_type": "code",
      "source": [
        "# PDF dosyalarının yolları\n",
        "pdf_paths = ['/content/Current Essentials of Medicine.pdf'\n",
        "]\n",
        "\n",
        "# FAISS indeksi ve belgeler için global değişkenler\n",
        "vector_index = None\n",
        "documents = []\n",
        "chat_history = []"
      ],
      "metadata": {
        "id": "PA6W8LHvUg-f"
      },
      "execution_count": 6,
      "outputs": []
    },
    {
      "cell_type": "code",
      "source": [
        "# PDF'leri okuma ve indeksleme fonksiyonu\n",
        "def index_pdfs():\n",
        "    global vector_index, documents\n",
        "\n",
        "    for pdf_path in pdf_paths:\n",
        "        pdf_reader = PdfReader(pdf_path)\n",
        "        text = \"\"\n",
        "        for page in pdf_reader.pages:\n",
        "            page_text = page.extract_text()\n",
        "            if page_text:\n",
        "                text += page_text\n",
        "        documents.append(text)\n",
        "\n",
        "    combined_text = \" \".join(documents)\n",
        "\n",
        "    text_splitter = RecursiveCharacterTextSplitter(chunk_size=500, chunk_overlap=50)\n",
        "    texts = text_splitter.split_text(combined_text)\n",
        "\n",
        "    embeddings = OpenAIEmbeddings(openai_api_key=openai_api_key)\n",
        "    vectors = embeddings.embed_documents(texts)\n",
        "\n",
        "    vector_array = np.array(vectors)\n",
        "\n",
        "    index = faiss.IndexFlatL2(vector_array.shape[1])\n",
        "    index.add(vector_array)\n",
        "\n",
        "    vector_index = index\n",
        "\n",
        "    print(\"Bilgi tabanı başarıyla oluşturuldu!\")\n",
        "\n",
        "index_pdfs()"
      ],
      "metadata": {
        "colab": {
          "base_uri": "https://localhost:8080/"
        },
        "id": "gkqKeMEgUhBm",
        "outputId": "db6c37ca-afcd-4763-a224-44554932ecb1"
      },
      "execution_count": 8,
      "outputs": [
        {
          "output_type": "stream",
          "name": "stderr",
          "text": [
            "<ipython-input-8-b3abdacc56b4>:19: LangChainDeprecationWarning: The class `OpenAIEmbeddings` was deprecated in LangChain 0.0.9 and will be removed in 1.0. An updated version of the class exists in the langchain-openai package and should be used instead. To use it run `pip install -U langchain-openai` and import as `from langchain_openai import OpenAIEmbeddings`.\n",
            "  embeddings = OpenAIEmbeddings(openai_api_key=openai_api_key)\n"
          ]
        },
        {
          "output_type": "stream",
          "name": "stdout",
          "text": [
            "Bilgi tabanı başarıyla oluşturuldu!\n"
          ]
        }
      ]
    },
    {
      "cell_type": "code",
      "source": [
        "# Hava durumu verilerini çekmek için fonksiyon\n",
        "def fetch_weather(location):\n",
        "    url = f\"http://api.openweathermap.org/data/2.5/weather?q={location}&appid={weather_api_key}&units=metric&lang=tr\"\n",
        "    response = requests.get(url)\n",
        "    if response.status_code == 200:\n",
        "        data = response.json()\n",
        "        temp = data['main']['temp']\n",
        "        weather_description = data['weather'][0]['description']\n",
        "        return f\"{location} için anlık hava durumu: {temp}°C ve {weather_description}.\"\n",
        "    else:\n",
        "        return \"Hava durumu bilgilerini alamadım. Lütfen konumu kontrol edip tekrar deneyin.\"\n"
      ],
      "metadata": {
        "id": "RIw1JBFuUhDt"
      },
      "execution_count": 9,
      "outputs": []
    },
    {
      "cell_type": "code",
      "source": [
        "# Döviz kuru verilerini çekmek ve döviz dönüşümü yapmak için fonksiyon\n",
        "def fetch_exchange_rate(base_currency, target_currency, amount=1):\n",
        "    url = f\"https://api.exchangeratesapi.io/v1/latest?access_key={exchange_api_key}&format=1\"\n",
        "    response = requests.get(url)\n",
        "    data = response.json()\n",
        "    rates = data.get('rates', {})\n",
        "    if target_currency in rates:\n",
        "        rate = rates[target_currency]\n",
        "        converted_amount = float(amount) * rate\n",
        "        return f\"{amount} {base_currency} = {converted_amount:.2f} {target_currency}.\"\n",
        "    else:\n",
        "        return f\"{target_currency} için döviz kuru bilgisi bulunamadı.\"\n"
      ],
      "metadata": {
        "id": "4IL7v9QdUhGT"
      },
      "execution_count": 10,
      "outputs": []
    },
    {
      "cell_type": "code",
      "source": [
        "def format_chat_history(chat_history):\n",
        "    formatted_history = \"\"\n",
        "    for entry in chat_history:\n",
        "        if entry[\"role\"] == \"user\":\n",
        "            formatted_history += f\"<div class='chat-bubble user'>{entry['content']}</div>\"\n",
        "        else:\n",
        "            formatted_history += f\"<div class='chat-bubble assistant'>{entry['content']}</div>\"\n",
        "\n",
        "    return formatted_history"
      ],
      "metadata": {
        "id": "-5uDkSjnUhLB"
      },
      "execution_count": 39,
      "outputs": []
    },
    {
      "cell_type": "code",
      "source": [
        "# GPT-4 Yanıtını oluşturmak için fonksiyon (function calling ile)\n",
        "def generate_gpt4_response(prompt_input):\n",
        "    global vector_index, documents, chat_history\n",
        "    openai.api_key = openai_api_key\n",
        "\n",
        "    functions = [\n",
        "        {\n",
        "            \"name\": \"fetch_weather\",\n",
        "            \"description\": \"Belirli bir konum için hava durumu bilgisini alır.\",\n",
        "            \"parameters\": {\n",
        "                \"type\": \"object\",\n",
        "                \"properties\": {\n",
        "                    \"location\": {\n",
        "                        \"type\": \"string\",\n",
        "                        \"description\": \"Hava durumu almak istediğiniz konumun adı\"\n",
        "                    }\n",
        "                },\n",
        "                \"required\": [\"location\"],\n",
        "            },\n",
        "        },\n",
        "        {\n",
        "            \"name\": \"fetch_exchange_rate\",\n",
        "            \"description\": \"Belirli iki para birimi arasındaki döviz kuru bilgisini alır ve isteğe bağlı olarak belirli bir miktar için dönüştürme yapar.\",\n",
        "            \"parameters\": {\n",
        "                \"type\": \"object\",\n",
        "                \"properties\": {\n",
        "                    \"base_currency\": {\n",
        "                        \"type\": \"string\",\n",
        "                        \"description\": \"Döviz kurunu almak istediğiniz temel para birimi, varsayılan olarak EUR'dir.\"\n",
        "                    },\n",
        "                    \"target_currency\": {\n",
        "                        \"type\": \"string\",\n",
        "                        \"description\": \"Döviz kurunu almak istediğiniz hedef para biriminin ISO 4217 kodu (örneğin: TRY)\"\n",
        "                    },\n",
        "                    \"amount\": {\n",
        "                        \"type\": \"number\",\n",
        "                        \"description\": \"Dönüştürmek istediğiniz miktar (varsayılan olarak 1).\"\n",
        "                    }\n",
        "                },\n",
        "                \"required\": [\"base_currency\", \"target_currency\", \"amount\"],\n",
        "            },\n",
        "        }\n",
        "    ]\n",
        "\n",
        "    # OpenAI API çağrısı (function calling ile)\n",
        "    response = openai.ChatCompletion.create(\n",
        "        model='gpt-4o-mini',\n",
        "        messages=[\n",
        "            {\"role\": \"system\",\n",
        "             \"content\": \"Sen tıp bilgileri ile donatılmış bir asistansın ve görevin tıbbi konulardaki sorulara cevap vermektir.\"},\n",
        "            {\"role\": \"user\", \"content\": prompt_input}\n",
        "        ],\n",
        "        functions=functions,\n",
        "        function_call=\"auto\",  # Modelin fonksiyon çağrısına karar vermesine izin ver\n",
        "        temperature=0.5,\n",
        "        max_tokens=512\n",
        "    )\n",
        "\n",
        "    # Sohbet geçmişini güncelle\n",
        "    chat_history.append({\"role\": \"user\", \"content\": prompt_input})\n",
        "\n",
        "    # Bir fonksiyon çağrısı istenip istenmediğini kontrol et\n",
        "    if 'choices' in response and response['choices'][0]['finish_reason'] == 'function_call':\n",
        "        function_call_info = response['choices'][0]['message']['function_call']\n",
        "        function_name = function_call_info['name']\n",
        "        arguments = json.loads(function_call_info['arguments'])\n",
        "\n",
        "        if function_name == 'fetch_weather':\n",
        "            location = arguments['location']\n",
        "            weather_response = fetch_weather(location)\n",
        "            chat_history.append({\"role\": \"assistant\", \"content\": weather_response})\n",
        "            return format_chat_history(chat_history)\n",
        "        elif function_name == 'fetch_exchange_rate':\n",
        "            base_currency = arguments['base_currency']\n",
        "            target_currency = arguments['target_currency']\n",
        "            amount = arguments.get('amount', 1)\n",
        "            exchange_rate_response = fetch_exchange_rate(base_currency, target_currency, amount)\n",
        "            chat_history.append({\"role\": \"assistant\", \"content\": exchange_rate_response})\n",
        "            return format_chat_history(chat_history)\n",
        "\n",
        "    # Asistanın yanıtını al\n",
        "    assistant_response = response['choices'][0]['message']['content'].strip()\n",
        "    chat_history.append({\"role\": \"assistant\", \"content\": assistant_response})\n",
        "\n",
        "    return format_chat_history(chat_history)"
      ],
      "metadata": {
        "id": "k72356afUhIn"
      },
      "execution_count": 40,
      "outputs": []
    },
    {
      "cell_type": "code",
      "source": [
        "with gr.Blocks() as demo:\n",
        "    # CSS ile kaydırma özelliği ve stil düzenlemeleri\n",
        "    custom_css = \"\"\"\n",
        "    /* Chat balonları için stil */\n",
        "    .chat-bubble {\n",
        "        padding: 10px;\n",
        "        border-radius: 10px;\n",
        "        margin-bottom: 10px;\n",
        "        max-width: 60%;\n",
        "        word-wrap: break-word;\n",
        "    }\n",
        "\n",
        "    .user {\n",
        "        background-color: #d1e7dd;\n",
        "        text-align: right;\n",
        "        margin-left: auto;\n",
        "    }\n",
        "\n",
        "    .assistant {\n",
        "        background-color: #f8d7da;\n",
        "        text-align: left;\n",
        "        margin-right: auto;\n",
        "    }\n",
        "\n",
        "    /* Kaydırılabilir sohbet kutusu */\n",
        "    #output-box {\n",
        "        height: 400px;  /* Sabit yükseklik */\n",
        "        width: 100%;\n",
        "        overflow-y: scroll !important;  /* Kaydırmayı gizle ama JS ile açacağız */\n",
        "        padding: 10px;\n",
        "        border: 1px solid #ccc;\n",
        "        border-radius: 10px;\n",
        "        background-color: #f8f9fa;\n",
        "        margin-bottom: 20px;\n",
        "    }\n",
        "\n",
        "    /* Giriş kutusu */\n",
        "    #input-box {\n",
        "        height: 150px;\n",
        "        width: 100%;\n",
        "    }\n",
        "    \"\"\"\n",
        "\n",
        "    output_textbox = gr.HTML(label=\"Yanıt\", elem_id=\"output-box\")  # HTML bileşeni ile sohbeti gösteriyoruz\n",
        "    input_textbox = gr.Textbox(label=\"Sorunuzu girin\", lines=4, elem_id=\"input-box\")  # Giriş alanı\n",
        "\n",
        "    # Sorgu gönderildiğinde çalıştırılacak fonksiyon\n",
        "    def on_submit(prompt_input):\n",
        "        response = generate_gpt4_response(prompt_input)\n",
        "        return response, \"\"  # Giriş kutusunu temizle\n",
        "\n",
        "    # Sohbeti temizlemek için fonksiyon\n",
        "    def clear_chat():\n",
        "        global chat_history\n",
        "        chat_history.clear()\n",
        "        return \"\", \"\"  # Hem giriş kutusunu hem de sohbeti temizle\n",
        "\n",
        "    # Giriş kutusuna \"Enter\" basıldığında çalıştırılan fonksiyon\n",
        "    input_textbox.submit(on_submit, inputs=input_textbox, outputs=[output_textbox, input_textbox])\n",
        "\n",
        "    # Mesaj gönderme ve sohbeti temizleme butonları\n",
        "    submit_btn = gr.Button(\"Gönder\")\n",
        "    clear_btn = gr.Button(\"Chat'i Temizle\")\n",
        "\n",
        "    submit_btn.click(on_submit, inputs=input_textbox, outputs=[output_textbox, input_textbox])\n",
        "    clear_btn.click(clear_chat, outputs=[output_textbox, input_textbox])\n",
        "\n",
        "    demo.css = custom_css\n",
        "    demo.launch(share=True, debug=True)"
      ],
      "metadata": {
        "colab": {
          "base_uri": "https://localhost:8080/",
          "height": 745
        },
        "id": "xNYH5O4hUhV1",
        "outputId": "80218d42-6523-456b-fc7b-d3ee8f6c2a02"
      },
      "execution_count": 41,
      "outputs": [
        {
          "output_type": "stream",
          "name": "stdout",
          "text": [
            "Colab notebook detected. This cell will run indefinitely so that you can see errors and logs. To turn off, set debug=False in launch().\n",
            "Running on public URL: https://1046f76164fb165e08.gradio.live\n",
            "\n",
            "This share link expires in 72 hours. For free permanent hosting and GPU upgrades, run `gradio deploy` from Terminal to deploy to Spaces (https://huggingface.co/spaces)\n"
          ]
        },
        {
          "output_type": "display_data",
          "data": {
            "text/plain": [
              "<IPython.core.display.HTML object>"
            ],
            "text/html": [
              "<div><iframe src=\"https://1046f76164fb165e08.gradio.live\" width=\"100%\" height=\"500\" allow=\"autoplay; camera; microphone; clipboard-read; clipboard-write;\" frameborder=\"0\" allowfullscreen></iframe></div>"
            ]
          },
          "metadata": {}
        },
        {
          "output_type": "stream",
          "name": "stdout",
          "text": [
            "Keyboard interruption in main thread... closing server.\n",
            "Killing tunnel 127.0.0.1:7860 <> https://b162ad70725dccd76c.gradio.live\n",
            "Killing tunnel 127.0.0.1:7861 <> https://2eae138fb007aae19d.gradio.live\n",
            "Killing tunnel 127.0.0.1:7862 <> https://1dcffbd5ed4db3ce8d.gradio.live\n",
            "Killing tunnel 127.0.0.1:7863 <> https://c9b054571b98902445.gradio.live\n",
            "Killing tunnel 127.0.0.1:7864 <> https://6311d0f05878886aba.gradio.live\n",
            "Killing tunnel 127.0.0.1:7865 <> https://44bc8391d8b84b0e1d.gradio.live\n",
            "Killing tunnel 127.0.0.1:7866 <> https://1046f76164fb165e08.gradio.live\n"
          ]
        }
      ]
    },
    {
      "cell_type": "code",
      "source": [],
      "metadata": {
        "id": "HbHxZ2VzVKkb"
      },
      "execution_count": null,
      "outputs": []
    },
    {
      "cell_type": "code",
      "source": [],
      "metadata": {
        "id": "XdxM_G07VKmy"
      },
      "execution_count": null,
      "outputs": []
    },
    {
      "cell_type": "code",
      "source": [],
      "metadata": {
        "id": "gTICnappVKpn"
      },
      "execution_count": null,
      "outputs": []
    }
  ]
}